{
 "cells": [
  {
   "cell_type": "code",
   "execution_count": 12,
   "metadata": {
    "collapsed": false,
    "scrolled": false
   },
   "outputs": [
    {
     "name": "stdout",
     "output_type": "stream",
     "text": [
      "0.784511784512\n"
     ]
    }
   ],
   "source": [
    "from sklearn.neighbors import KNeighborsClassifier\n",
    "import pandas as pd\n",
    "from pandas import DataFrame\n",
    "from sklearn.metrics import accuracy_score\n",
    "knn = KNeighborsClassifier(n_neighbors=3)\n",
    "\n",
    "train = pd.read_csv('https://raw.githubusercontent.com/zacharski/machine-learning/master/data/titanic-train.csv')\n",
    "\n",
    "# test = pd.read_csv('https://raw.githubusercontent.com/zacharski/machine-learning/master/data/titanic-test.csv')\n",
    "# test\n",
    "\n",
    "titanic_frame = DataFrame(train)\n",
    "titanic_features = titanic_frame[['PassengerId','Pclass'] ]\n",
    "titanic_labels = titanic_frame['Survived']\n",
    "knn.fit(titanic_features, titanic_labels)\n",
    "\n",
    "\n",
    "predicted = knn.predict(titanic_features)\n",
    "print(accuracy_score(titanic_labels, predicted))\n",
    "\n",
    "\n"
   ]
  },
  {
   "cell_type": "code",
   "execution_count": null,
   "metadata": {
    "collapsed": true
   },
   "outputs": [],
   "source": []
  }
 ],
 "metadata": {
  "anaconda-cloud": {},
  "kernelspec": {
   "display_name": "Python [conda root]",
   "language": "python",
   "name": "conda-root-py"
  },
  "language_info": {
   "codemirror_mode": {
    "name": "ipython",
    "version": 3
   },
   "file_extension": ".py",
   "mimetype": "text/x-python",
   "name": "python",
   "nbconvert_exporter": "python",
   "pygments_lexer": "ipython3",
   "version": "3.5.2"
  }
 },
 "nbformat": 4,
 "nbformat_minor": 1
}
